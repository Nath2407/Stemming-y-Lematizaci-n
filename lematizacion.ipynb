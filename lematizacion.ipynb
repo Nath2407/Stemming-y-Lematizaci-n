{
  "nbformat": 4,
  "nbformat_minor": 0,
  "metadata": {
    "colab": {
      "provenance": []
    },
    "kernelspec": {
      "name": "python3",
      "display_name": "Python 3"
    },
    "language_info": {
      "name": "python"
    }
  },
  "cells": [
    {
      "cell_type": "code",
      "execution_count": null,
      "metadata": {
        "id": "Ia2sD8yhwSs4"
      },
      "outputs": [],
      "source": [
        "import json\n",
        "from .config import Config\n",
        "\n",
        "\n",
        "class Lemmatizer:\n",
        "\n",
        "    def __init__(self):\n",
        "        self.__lookup_table = {}\n",
        "        self.__rules = {}\n",
        "        with open(Config.OUTPUT_FILE, encoding=\"utf-8\") as json_file:\n",
        "            self.__lookup_table = json.load(json_file)\n",
        "        with open(Config.COMMON_RULES, encoding=\"utf-8\") as json_file:\n",
        "            self.__rules = json.load(json_file)\n",
        "\n",
        "    def __call__(self, token, pos, old_lemma):\n",
        "        pos = pos.lower()\n",
        "        token = token.lower()\n",
        "        # hard lookup\n",
        "        lookup_data = self.__lookup_table.get(pos, {})\n",
        "        lookup = lookup_data.get(token, None)\n",
        "        if lookup:\n",
        "            return lookup\n",
        "        # general rules\n",
        "        current_rules = self.__rules.get(pos, {})\n",
        "        for old, new in current_rules.items():\n",
        "            if token.endswith(old):\n",
        "                return token[: len(token)-len(old)] + new\n",
        "        # Return the original token if it is a preposition or\n",
        "        # if the original lemmatizer has not been executed\n",
        "        if pos == \"adp\" or not old_lemma:\n",
        "           return token\n",
        "        # use lemma from spaCy\n",
        "        return old_lemma.lower()"
      ]
    }
  ]
}